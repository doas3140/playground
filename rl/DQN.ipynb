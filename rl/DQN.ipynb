{
 "cells": [
  {
   "cell_type": "code",
   "execution_count": 1,
   "metadata": {},
   "outputs": [
    {
     "name": "stderr",
     "output_type": "stream",
     "text": [
      "C:\\Users\\domin\\Anaconda3\\envs\\tf2\\lib\\site-packages\\tqdm\\autonotebook\\__init__.py:14: TqdmExperimentalWarning: Using `tqdm.autonotebook.tqdm` in notebook mode. Use `tqdm.tqdm` instead to force console mode (e.g. in jupyter console)\n",
      "  \" (e.g. in jupyter console)\", TqdmExperimentalWarning)\n"
     ]
    }
   ],
   "source": [
    "from utils import *\n",
    "import utils"
   ]
  },
  {
   "cell_type": "code",
   "execution_count": 5,
   "metadata": {},
   "outputs": [
    {
     "name": "stdout",
     "output_type": "stream",
     "text": [
      "Box(128,)\n",
      "Discrete(6)\n",
      "(-inf, inf)\n"
     ]
    }
   ],
   "source": [
    "GAME = 'CartPole-v1'\n",
    "env = gym.make(GAME)\n",
    "S, A = env.observation_space.shape[0], env.action_space.n\n",
    "print(env.observation_space)\n",
    "print(env.action_space)\n",
    "print(env.reward_range)"
   ]
  },
  {
   "cell_type": "code",
   "execution_count": 11,
   "metadata": {},
   "outputs": [],
   "source": [
    "class Model(tf.keras.Model):\n",
    "    def __init__(self, S, A):\n",
    "        super().__init__()\n",
    "        self.W1 = tf.keras.layers.Dense(50, 'relu', input_dim=S)\n",
    "        self.W2 = tf.keras.layers.Dense(50, 'relu', input_dim=50)\n",
    "        self.W3 = tf.keras.layers.Dense(A, input_dim=50)\n",
    "        self.build((None,S))\n",
    "    \n",
    "    def call(self, x):\n",
    "        x = self.W1(x)\n",
    "        x = self.W2(x)\n",
    "        return self.W3(x)\n",
    "    \n",
    "create_nn = lambda S,A: Model(S,A)"
   ]
  },
  {
   "cell_type": "code",
   "execution_count": 45,
   "metadata": {},
   "outputs": [],
   "source": [
    "def epsilon_greedy(q, epsilon): # [1,A], []\n",
    "    ''' q values [1,A] -> [] action '''\n",
    "    if np.random.rand() < epsilon: return np.random.choice(q.shape[1])\n",
    "    else: return np.squeeze(np.argmax(q, axis=-1))"
   ]
  },
  {
   "cell_type": "code",
   "execution_count": 122,
   "metadata": {},
   "outputs": [],
   "source": [
    "class Agent():\n",
    "    def __init__(self, num_states, num_actions, lr, gamma=0.99):\n",
    "        self.S, self.A = num_states, num_actions\n",
    "        self.optimizer = tf.optimizers.Adam(lr)\n",
    "        self.y = gamma\n",
    "        self.Qnn = create_nn(self.S, self.A) # Q online network\n",
    "        self.Tnn = create_nn(self.S, self.A) # Target network\n",
    "        self.Tnn.set_weights( self.Qnn.get_weights() )\n",
    "        self.double_dqn = True\n",
    "        self.batch_size = 32 # batch size\n",
    "        self.swap_iters = 100 # if iter > this: swap/copy networks\n",
    "        self._step = 1 # step count to construct epsilon and swap networks\n",
    "        self.D = deque(maxlen=2000) # experience replay buffer\n",
    "        # calculate moving std + mean using batch normalization\n",
    "        self.batch_norm = tf.keras.layers.BatchNormalization(momentum=0.95, axis=0, scale=False, center=False)\n",
    "        # usage: self.bn(x, trainable=True/False), where x.shape = [b,X]\n",
    "        # if trainable==False: (x - mean) / std, where mean, std are moving avg got when using trainable==True\n",
    "        # if True: (x - x.mean(axis=-1) / x.std(axis=-1) # ([b,X] -[b]) / [b]\n",
    "    \n",
    "    def first_step(self, s, sdict): # [1,S]\n",
    "        a = np.random.randint(self.A) # [] (random move)\n",
    "        self.s, self.a = s, a # save prev state + action + q value\n",
    "        # init plot values if not inited\n",
    "        for a in range(self.A):\n",
    "            sdict[f'action{a}'] += 0\n",
    "            sdict[f'Qaction{a}'] += 0\n",
    "        sdict['epsilon'] += 0\n",
    "        sdict['loss'] += 0\n",
    "        return a\n",
    "        \n",
    "    def step(self, r, s, sdict): # [], [1,S]\n",
    "        # append tuple to experience replay\n",
    "        self.D.append([self.s, self.a, r, s, False]) # s, a, r, s', done(bool)\n",
    "        if self._step % 2 == 0: # ecery second frame update loss\n",
    "            if len(self.D) < self.batch_size: loss = 0\n",
    "            else: loss = self.update_weights(self.batch_size, sdict)\n",
    "            sdict['loss'] += float(loss)\n",
    "        # copy Q network to T network\n",
    "        if self._step % self.swap_iters == 0:\n",
    "            self.Tnn.set_weights( self.Qnn.get_weights() )\n",
    "        # update other vars\n",
    "        f = lambda _from, _to, _in, _step: (_from - _step*((_from-_to)/_in))\n",
    "        self.epsilon = f(1, 0, 10000, self._step) # *2: 0-1e6 already passed, start from 0.2\n",
    "        self.epsilon = max(self.epsilon, 0.05)\n",
    "        sdict['epsilon'] += self.epsilon\n",
    "        self._step += 1\n",
    "        # select action from Q network\n",
    "        q = self.Qnn(s) # [1,A]\n",
    "        a = epsilon_greedy(q, self.epsilon) # []\n",
    "        for a_ in range(self.A): sdict[f'Qaction{a_}'] += float(q[0,a_])\n",
    "        sdict[f'action{a}'] += 1\n",
    "        # remember last state + action\n",
    "        self.s, self.a = s, a\n",
    "        return a\n",
    "    \n",
    "    def update_weights(self, b, sdict): # batch size\n",
    "        # select batch from experience replay\n",
    "        B = random.sample(self.D, b) # random batch from experience replay\n",
    "        # calculate Q values in s'\n",
    "        S = np.squeeze(np_map(lambda x: x[3], B)) # [b,S]\n",
    "        R = np.squeeze(np_map(lambda x: x[2], B)) # [b]\n",
    "        # calculate new Q values in s when doing a action\n",
    "        mask = ~np.squeeze(np_map(lambda x: x[4], B)).astype(bool) # [b] (mask if it is last action)\n",
    "        Q = self.Tnn(S)\n",
    "        Qa = R + self.y * np.max(Q, axis=-1) * mask # [b] (bellman error)\n",
    "        # leave other action values the same in s\n",
    "        S = np.squeeze(np_map(lambda x: x[0], B)) # [b,S]\n",
    "        A = np.squeeze(np_map(lambda x: x[1], B)).astype(int) # [b]\n",
    "        Q = self.Qnn(S).numpy() # [b,A]\n",
    "        Q[np.arange(b),A] = Qa # [b,A]\n",
    "        # train nn for 1 epoch\n",
    "        with tf.GradientTape() as tape:\n",
    "            Q_hat = self.Qnn(S) # [e,A]\n",
    "            each_loss = tf.reduce_sum( (Q-Q_hat)**2 , axis=-1 ) # [e]\n",
    "            loss = tf.reduce_mean(each_loss) # avg of all examples\n",
    "        # calc + update gradients\n",
    "        nn_vars = self.Qnn.trainable_variables\n",
    "        grads = tape.gradient(loss, nn_vars)\n",
    "        self.optimizer.apply_gradients(zip(grads, nn_vars))\n",
    "        return loss\n",
    "    \n",
    "    def last_step(self, r, sdict):\n",
    "        self.D.append([self.s, self.a, r, self.s, True]) # s, a, r, s', done"
   ]
  },
  {
   "cell_type": "code",
   "execution_count": 123,
   "metadata": {},
   "outputs": [],
   "source": [
    "agent_fn = lambda S,A,env_fn=None: Agent(num_states=S, num_actions=A, lr=1e-4, gamma=0.99)"
   ]
  },
  {
   "cell_type": "code",
   "execution_count": null,
   "metadata": {},
   "outputs": [],
   "source": [
    "test_agent_on_simple_games(agent_fn, 'DQN', game_dict={'CartPole-v1':500})"
   ]
  },
  {
   "cell_type": "code",
   "execution_count": 124,
   "metadata": {},
   "outputs": [],
   "source": [
    "d = pd.DataFrame()\n",
    "agent = agent_fn(S,A)\n",
    "exp = Experiment(env, agent)"
   ]
  },
  {
   "cell_type": "code",
   "execution_count": null,
   "metadata": {},
   "outputs": [],
   "source": [
    "df = exp.run(500, 1, name='')\n",
    "d = d.append(df)"
   ]
  },
  {
   "cell_type": "code",
   "execution_count": 119,
   "metadata": {},
   "outputs": [],
   "source": [
    "d = d.append(pd.DataFrame(exp.D))"
   ]
  },
  {
   "cell_type": "code",
   "execution_count": 65,
   "metadata": {},
   "outputs": [
    {
     "data": {
      "text/plain": [
       "8303"
      ]
     },
     "execution_count": 65,
     "metadata": {},
     "output_type": "execute_result"
    }
   ],
   "source": [
    "exp.show_play(10000)"
   ]
  },
  {
   "cell_type": "code",
   "execution_count": null,
   "metadata": {},
   "outputs": [],
   "source": [
    "df = exp.run(100, 1, name='')\n",
    "d = d.append(df)"
   ]
  },
  {
   "cell_type": "code",
   "execution_count": 67,
   "metadata": {},
   "outputs": [],
   "source": [
    "d = pd.DataFrame(exp.D)"
   ]
  },
  {
   "cell_type": "code",
   "execution_count": 71,
   "metadata": {},
   "outputs": [
    {
     "data": {
      "image/png": "[encoded data removed]",
      "text/plain": [
       "<Figure size 432x288 with 1 Axes>"
      ]
     },
     "metadata": {
      "needs_background": "light"
     },
     "output_type": "display_data"
    }
   ],
   "source": [
    "ax = plot_df(d, y=['Qaction0/s', 'Qaction1/s', 'reward/e'], confidence=68)"
   ]
  },
  {
   "cell_type": "code",
   "execution_count": 292,
   "metadata": {},
   "outputs": [
    {
     "data": {
      "application/vnd.jupyter.widget-view+json": {
       "model_id": "3db9fe41a9d74cddb8b2256c5adfd98c",
       "version_major": 2,
       "version_minor": 0
      },
      "text/plain": [
       "HBox(children=(IntProgress(value=0, max=1000), HTML(value='')))"
      ]
     },
     "metadata": {},
     "output_type": "display_data"
    }
   ],
   "source": [
    "# df = exp.run(1000, 1, name='')\n",
    "# d = d.append(df)"
   ]
  },
  {
   "cell_type": "code",
   "execution_count": null,
   "metadata": {},
   "outputs": [],
   "source": []
  }
 ],
 "metadata": {
  "kernelspec": {
   "display_name": "tf2",
   "language": "python",
   "name": "tf2"
  },
  "language_info": {
   "codemirror_mode": {
    "name": "ipython",
    "version": 3
   },
   "file_extension": ".py",
   "mimetype": "text/x-python",
   "name": "python",
   "nbconvert_exporter": "python",
   "pygments_lexer": "ipython3",
   "version": "3.7.2"
  }
 },
 "nbformat": 4,
 "nbformat_minor": 2
}
