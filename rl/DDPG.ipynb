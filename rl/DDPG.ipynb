{
 "cells": [
  {
   "cell_type": "code",
   "execution_count": 1,
   "metadata": {},
   "outputs": [
    {
     "name": "stderr",
     "output_type": "stream",
     "text": [
      "C:\\Users\\domin\\Anaconda3\\envs\\tf2\\lib\\site-packages\\tqdm\\autonotebook\\__init__.py:14: TqdmExperimentalWarning: Using `tqdm.autonotebook.tqdm` in notebook mode. Use `tqdm.tqdm` instead to force console mode (e.g. in jupyter console)\n",
      "  \" (e.g. in jupyter console)\", TqdmExperimentalWarning)\n"
     ]
    }
   ],
   "source": [
    "from utils import *"
   ]
  },
  {
   "cell_type": "code",
   "execution_count": 2,
   "metadata": {},
   "outputs": [
    {
     "name": "stdout",
     "output_type": "stream",
     "text": [
      "3 1\n",
      "Box(3,)\n",
      "Box(1,)\n",
      "(-inf, inf)\n"
     ]
    }
   ],
   "source": [
    "GAME = 'Pendulum-v0'\n",
    "env = gym.make(GAME)\n",
    "S, A = env.observation_space.shape[0], env.action_space.shape[0]\n",
    "print(S,A)\n",
    "print(env.observation_space)\n",
    "print(env.action_space)\n",
    "print(env.reward_range)"
   ]
  },
  {
   "cell_type": "code",
   "execution_count": 11,
   "metadata": {},
   "outputs": [],
   "source": [
    "class ActorModel(tf.keras.Model):\n",
    "    def __init__(self, S, A):\n",
    "        super().__init__()\n",
    "        self.W1 = tf.keras.layers.Dense(50, 'relu')\n",
    "        self.W2 = tf.keras.layers.Dense(A, 'tanh')\n",
    "        self.call(np.ones([32,S],dtype=np.float32))\n",
    "    \n",
    "    def call(self, x): # [b,S]\n",
    "        x = self.W1(x)\n",
    "        return self.W2(x) * 2 # [-2;2]\n",
    "    \n",
    "create_Ann = lambda S,A: ActorModel(S,A)"
   ]
  },
  {
   "cell_type": "code",
   "execution_count": null,
   "metadata": {},
   "outputs": [],
   "source": [
    "class Model(tf.keras.Model):\n",
    "    def __init__(self, S, A):\n",
    "        super().__init__()\n",
    "        self.W1 = tf.keras.layers.Dense(50, 'relu')\n",
    "        self.W2 = tf.keras.layers.Dense(A)\n",
    "        self.build((None,S))\n",
    "    \n",
    "    def call(self, x):\n",
    "        x = self.W1(x)\n",
    "        return self.W2(x)\n",
    "    \n",
    "create_nn = lambda S,A: Model(S,A)"
   ]
  },
  {
   "cell_type": "code",
   "execution_count": 33,
   "metadata": {},
   "outputs": [
    {
     "data": {
      "text/plain": [
       "<tf.Tensor: id=1296, shape=(5, 1), dtype=float32, numpy=\n",
       "array([[-0.64498454],\n",
       "       [-0.13012135],\n",
       "       [-0.27748793],\n",
       "       [-0.07806314],\n",
       "       [-0.3910868 ]], dtype=float32)>"
      ]
     },
     "execution_count": 33,
     "metadata": {},
     "output_type": "execute_result"
    }
   ],
   "source": [
    "create_Ann(S,A)(np.random.rand(5,3))"
   ]
  },
  {
   "cell_type": "code",
   "execution_count": 16,
   "metadata": {},
   "outputs": [],
   "source": [
    "class CriticModel(tf.keras.Model):\n",
    "    def __init__(self, S, A):\n",
    "        super().__init__()\n",
    "        self.W1 = tf.keras.layers.Dense(50, 'relu')\n",
    "        self.W2 = tf.keras.layers.Dense(1)\n",
    "        self.call(np.ones([32,S],dtype=np.float32), np.ones([32,A],dtype=np.float32))\n",
    "    \n",
    "    def call(self, s, a): # [b,S], [b,A]\n",
    "        x = tf.concat([s,a], axis=1) # [b,S + A]\n",
    "        x = self.W1(x) # [b,50]\n",
    "        return tf.squeeze(self.W2(x)) # [b]\n",
    "    \n",
    "create_Cnn = lambda S,A: CriticModel(S,A)"
   ]
  },
  {
   "cell_type": "code",
   "execution_count": 55,
   "metadata": {},
   "outputs": [],
   "source": [
    "class Agent():\n",
    "    def __init__(self, num_states, num_actions, lr=[1e-4,1e-3], gamma=0.99, batch_size=128):\n",
    "        self.S, self.A = num_states, num_actions\n",
    "        self.y = gamma\n",
    "        self.batch_size = batch_size\n",
    "        self.COnn = create_Cnn(S,A) # critic online\n",
    "        self.CTnn = create_Cnn(S,A) # critic target\n",
    "        self.CTnn.set_weights( self.COnn.get_weights() )\n",
    "        self.AOnn = create_Ann(S,A) # actor  online\n",
    "        self.ATnn = create_Ann(S,A) # actor  target\n",
    "        self.ATnn.set_weights( self.AOnn.get_weights() )\n",
    "        self.Coptimizer = tf.optimizers.Adam(lr[0])\n",
    "        self.Aoptimizer = tf.optimizers.Adam(lr[1])\n",
    "        self.D = []\n",
    "        \n",
    "    def first_step(self, s, sdict): # [S]\n",
    "        a = float(self.AOnn(s[None,:])[0]) # []\n",
    "        self.s, self.a = s, a # save prev state + action\n",
    "        return [a]\n",
    "        \n",
    "    def step(self, r, s, sdict): # [], [S]\n",
    "        # append tuple to experience replay\n",
    "        self.D.append([self.s, self.a, r, s, False]) # s, a, r, s', done\n",
    "        if len(self.D) > self.batch_size: self.train_step(self.batch_size)\n",
    "        A = self.AOnn(s[None,:]) # [1,A]\n",
    "        a = float(A[0]) # []\n",
    "        self.s, self.a = s, a # save previous state, action\n",
    "        return [a]\n",
    "    \n",
    "    def last_step(self, r, sdict):\n",
    "        self.D.append([self.s, self.a, r, self.s, True]) # s, a, r, s', done\n",
    "        \n",
    "    def train_step(self, b, tau=1e-3): # batch size, tau (target net update param)\n",
    "        B = random.sample(self.D, b)\n",
    "        S,A,R,Sn,Done = [np_map(lambda x: x[j], B) for j in range(5)] # all w/ shape [b] or [b,X]\n",
    "        A = A if A.ndim != 1 else A[:,None]\n",
    "        # update critic network\n",
    "        A_actor = self.ATnn(Sn) # [b,A]\n",
    "        Q_hat = R + self.y * (1-Done) * self.CTnn(Sn, A_actor) # [b]\n",
    "        with tf.GradientTape() as tape:\n",
    "            Q = self.COnn(S, A) # [b]\n",
    "            value_loss = (Q-Q_hat)**2 # [b]\n",
    "            loss = tf.reduce_mean(value_loss) # avg of all examples\n",
    "        grads = tape.gradient(loss, self.COnn.trainable_variables)\n",
    "        self.Coptimizer.apply_gradients(zip(grads, self.COnn.trainable_variables))\n",
    "        # update actor network\n",
    "        with tf.GradientTape() as tape:\n",
    "            A = self.AOnn(S) # [b,A]\n",
    "            policy_loss = -self.COnn(S,A) # [b] (maximize Q value)\n",
    "            loss = tf.reduce_mean(policy_loss) # avg of all examples\n",
    "        grads = tape.gradient(loss, self.AOnn.trainable_variables)\n",
    "        self.Aoptimizer.apply_gradients(zip(grads, self.AOnn.trainable_variables))\n",
    "        # update target networks\n",
    "        w = [tau*o+(1-tau)*t for t,o in zip(self.ATnn.get_weights(), self.AOnn.get_weights())]\n",
    "        self.ATnn.set_weights(w)\n",
    "        w = [tau*o+(1-tau)*t for t,o in zip(self.CTnn.get_weights(), self.COnn.get_weights())]\n",
    "        self.CTnn.set_weights(w)"
   ]
  },
  {
   "cell_type": "code",
   "execution_count": 56,
   "metadata": {},
   "outputs": [],
   "source": [
    "agent_fn = lambda S,A,env_fn=None: Agent(S, A, gamma=0.99)"
   ]
  },
  {
   "cell_type": "code",
   "execution_count": 57,
   "metadata": {},
   "outputs": [
    {
     "data": {
      "application/vnd.jupyter.widget-view+json": {
       "model_id": "bd6dd04bfdb74178a4b789f581a5b46e",
       "version_major": 2,
       "version_minor": 0
      },
      "text/plain": [
       "HBox(children=(IntProgress(value=0, max=500), HTML(value='')))"
      ]
     },
     "metadata": {},
     "output_type": "display_data"
    }
   ],
   "source": [
    "exp = Experiment(env, agent_fn(S,A))\n",
    "df = exp.run(500, 1, name='')"
   ]
  },
  {
   "cell_type": "code",
   "execution_count": 58,
   "metadata": {},
   "outputs": [
    {
     "data": {
      "text/plain": [
       "<matplotlib.axes._subplots.AxesSubplot at 0x21ac90755f8>"
      ]
     },
     "execution_count": 58,
     "metadata": {},
     "output_type": "execute_result"
    },
    {
     "data": {
      "image/png": "[encoded data removed]",
      "text/plain": [
       "<Figure size 432x288 with 1 Axes>"
      ]
     },
     "metadata": {
      "needs_background": "light"
     },
     "output_type": "display_data"
    }
   ],
   "source": [
    "plot_df(df)"
   ]
  },
  {
   "cell_type": "code",
   "execution_count": 62,
   "metadata": {},
   "outputs": [
    {
     "data": {
      "text/plain": [
       "200"
      ]
     },
     "execution_count": 62,
     "metadata": {},
     "output_type": "execute_result"
    }
   ],
   "source": [
    "exp.show_play(1000)"
   ]
  },
  {
   "cell_type": "code",
   "execution_count": null,
   "metadata": {},
   "outputs": [],
   "source": []
  }
 ],
 "metadata": {
  "kernelspec": {
   "display_name": "tf2",
   "language": "python",
   "name": "tf2"
  },
  "language_info": {
   "codemirror_mode": {
    "name": "ipython",
    "version": 3
   },
   "file_extension": ".py",
   "mimetype": "text/x-python",
   "name": "python",
   "nbconvert_exporter": "python",
   "pygments_lexer": "ipython3",
   "version": "3.7.2"
  }
 },
 "nbformat": 4,
 "nbformat_minor": 2
}
