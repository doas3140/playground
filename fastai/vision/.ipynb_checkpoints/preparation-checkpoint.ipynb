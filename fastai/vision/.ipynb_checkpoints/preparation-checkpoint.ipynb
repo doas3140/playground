{
 "cells": [
  {
   "cell_type": "code",
   "execution_count": 8,
   "metadata": {},
   "outputs": [],
   "source": [
    "from pathlib import Path"
   ]
  },
  {
   "cell_type": "code",
   "execution_count": 9,
   "metadata": {},
   "outputs": [
    {
     "data": {
      "text/plain": [
       "[PosixPath('/home/domas/.fastai/data/FlickrLogos_47/train'),\n",
       " PosixPath('/home/domas/.fastai/data/FlickrLogos_47/README.txt'),\n",
       " PosixPath('/home/domas/.fastai/data/FlickrLogos_47/className2ClassID.txt'),\n",
       " PosixPath('/home/domas/.fastai/data/FlickrLogos_47/test'),\n",
       " PosixPath('/home/domas/.fastai/data/FlickrLogos_47/scripts')]"
      ]
     },
     "execution_count": 9,
     "metadata": {},
     "output_type": "execute_result"
    }
   ],
   "source": [
    "path = Path('/home/domas/.fastai/data/FlickrLogos_47')\n",
    "path.ls()"
   ]
  },
  {
   "cell_type": "code",
   "execution_count": 10,
   "metadata": {},
   "outputs": [
    {
     "data": {
      "text/plain": [
       "{'0': 'HP',\n",
       " '1': 'adidas_symbol',\n",
       " '2': 'adidas_text',\n",
       " '3': 'aldi',\n",
       " '4': 'apple',\n",
       " '5': 'becks_symbol',\n",
       " '6': 'becks_text',\n",
       " '7': 'bmw',\n",
       " '8': 'carlsberg_symbol',\n",
       " '9': 'carlsberg_text',\n",
       " '10': 'chimay_symbol',\n",
       " '11': 'chimay_text',\n",
       " '12': 'cocacola',\n",
       " '13': 'corona_symbol',\n",
       " '14': 'corona_text',\n",
       " '15': 'dhl',\n",
       " '16': 'erdinger_symbol',\n",
       " '17': 'erdinger_text',\n",
       " '18': 'esso_symbol',\n",
       " '19': 'esso_text',\n",
       " '20': 'fedex',\n",
       " '21': 'ferrari',\n",
       " '22': 'ford',\n",
       " '23': 'fosters_symbol',\n",
       " '24': 'fosters_text',\n",
       " '25': 'google',\n",
       " '26': 'guinness_symbol',\n",
       " '27': 'guinness_text',\n",
       " '28': 'heineken',\n",
       " '29': 'milka',\n",
       " '30': 'nvidia_symbol',\n",
       " '31': 'nvidia_text',\n",
       " '32': 'paulaner_symbol',\n",
       " '33': 'paulaner_text',\n",
       " '34': 'pepsi_symbol',\n",
       " '35': 'pepsi_text',\n",
       " '36': 'rittersport',\n",
       " '37': 'shell',\n",
       " '38': 'singha_symbol',\n",
       " '39': 'singha_text',\n",
       " '40': 'starbucks',\n",
       " '41': 'stellaartois_symbol',\n",
       " '42': 'stellaartois_text',\n",
       " '43': 'texaco',\n",
       " '44': 'tsingtao_symbol',\n",
       " '45': 'tsingtao_text',\n",
       " '46': 'ups'}"
      ]
     },
     "execution_count": 10,
     "metadata": {},
     "output_type": "execute_result"
    }
   ],
   "source": [
    "def get_nr2classname_dict(path): # str -> str\n",
    "    lines = Path(path, 'className2ClassID.txt').open().readlines()\n",
    "    return {l.split('\\t')[1][:-1]:l.split('\\t')[0] for l in lines}\n",
    "\n",
    "nr2c = get_nr2classname_dict(path)\n",
    "nr2c"
   ]
  },
  {
   "cell_type": "code",
   "execution_count": 11,
   "metadata": {},
   "outputs": [],
   "source": [
    "class Logo():\n",
    "    def __init__(self):\n",
    "        self.path = Path('') # path to img\n",
    "        self.test = False # test set\n",
    "        self.logo = True # is there logo\n",
    "        self.ann = [] # annotations"
   ]
  },
  {
   "cell_type": "code",
   "execution_count": 12,
   "metadata": {},
   "outputs": [],
   "source": [
    "class Annotation():\n",
    "    def __init__(self):\n",
    "        self.bb = [0,0,0,0] # bounding box\n",
    "        self.mask = Path('') # path to mask\n",
    "        self.c = '' # class name\n",
    "        self.difficult = False # is difficult"
   ]
  },
  {
   "cell_type": "code",
   "execution_count": 36,
   "metadata": {},
   "outputs": [],
   "source": [
    "def get_logos(path):\n",
    "    \n",
    "    out = []\n",
    "    \n",
    "    for fld in ['train', 'test']:\n",
    "        lines = Path(path, fld, 'filelist.txt').open().readlines()\n",
    "        \n",
    "        for l in lines:\n",
    "            im = Path(path, fld, l[:-1])\n",
    "            \n",
    "            lg = Logo()\n",
    "            lg.path = im\n",
    "            lg.test = True if fld == 'test' else False\n",
    "            \n",
    "            if str(im).split('/')[-2] == 'no-logo':\n",
    "                lg.logo = False\n",
    "                out.append(lg)\n",
    "                continue\n",
    "            \n",
    "            annlines = Path(str(im)[:-4] + '.gt_data.txt').open().readlines()\n",
    "            \n",
    "            for al in annlines:\n",
    "                b = al.split(' ')\n",
    "                \n",
    "                a = Annotation()\n",
    "                for i in range(3):\n",
    "                    a.bb[i] = int(b[i])\n",
    "                    \n",
    "                a.c = nr2c[ b[4] ]\n",
    "                a.mask = Path('{}.{}.png'.format(str(im)[:-4], b[6]))\n",
    "                a.difficult = True if b[7] == '1' else False\n",
    "                \n",
    "                lg.ann.append(a)\n",
    "                \n",
    "            out.append(lg)\n",
    "    return out\n",
    "    \n",
    "    \n",
    "logos = get_logos(path)"
   ]
  },
  {
   "cell_type": "code",
   "execution_count": null,
   "metadata": {},
   "outputs": [],
   "source": []
  }
 ],
 "metadata": {
  "kernelspec": {
   "display_name": "fastai",
   "language": "python",
   "name": "fastai"
  },
  "language_info": {
   "codemirror_mode": {
    "name": "ipython",
    "version": 3
   },
   "file_extension": ".py",
   "mimetype": "text/x-python",
   "name": "python",
   "nbconvert_exporter": "python",
   "pygments_lexer": "ipython3",
   "version": "3.7.2"
  }
 },
 "nbformat": 4,
 "nbformat_minor": 2
}
